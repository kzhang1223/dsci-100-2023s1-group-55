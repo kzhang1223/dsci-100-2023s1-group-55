{
 "cells": [
  {
   "cell_type": "markdown",
   "id": "0785b9ea-a2e3-498e-b1d0-99f6cc92bb2d",
   "metadata": {},
   "source": [
    "Title"
   ]
  },
  {
   "cell_type": "markdown",
   "id": "2d2e0a33-baae-4f2c-9851-bb34797bb272",
   "metadata": {},
   "source": [
    "Introduction "
   ]
  },
  {
   "cell_type": "markdown",
   "id": "335139ca-ff3b-434b-ae08-fcd5c5a68b23",
   "metadata": {},
   "source": [
    "Methods & Results"
   ]
  },
  {
   "cell_type": "markdown",
   "id": "adbb4a71-46ff-43ef-b109-8eefb9cd92a6",
   "metadata": {},
   "source": [
    "Discussion "
   ]
  },
  {
   "cell_type": "markdown",
   "id": "1c44e68d-deff-4891-a451-7479cb268977",
   "metadata": {},
   "source": [
    "References"
   ]
  },
  {
   "cell_type": "code",
   "execution_count": null,
   "id": "f6942650-4d47-43e5-bf23-71cd99a5f272",
   "metadata": {},
   "outputs": [],
   "source": []
  }
 ],
 "metadata": {
  "kernelspec": {
   "display_name": "R",
   "language": "R",
   "name": "ir"
  },
  "language_info": {
   "codemirror_mode": "r",
   "file_extension": ".r",
   "mimetype": "text/x-r-source",
   "name": "R",
   "pygments_lexer": "r",
   "version": "4.1.3"
  }
 },
 "nbformat": 4,
 "nbformat_minor": 5
}
