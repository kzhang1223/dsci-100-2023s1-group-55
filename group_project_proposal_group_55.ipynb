{
 "cells": [
  {
   "cell_type": "markdown",
   "id": "d72d1484-0570-48d5-bf2a-2ee26e0eae70",
   "metadata": {},
   "source": [
    "# Group 55 Project Proposal: Type 2 Diabetes Based on Glucose and BMI "
   ]
  },
  {
   "cell_type": "markdown",
   "id": "1fb3d5cd-fb8e-4cce-a359-aa6883325a4f",
   "metadata": {},
   "source": [
    "### Introduction\n",
    "\n",
    "**Relevant Background:** Type 2 diabetes is the result of one’s inability to properly use insulin when high levels of sugar are introduced to the body. Insulin is used to absorb glucose out of the blood system; however, if the body does not make any insulin, which is the case for patients with type 2 diabetes, the glucose levels may not be managed to a safe level. While type 2 diabetes is preventable, there are many factors that can induce the development of type 2 diabetes such as food intake, genetics, or weight.  \n",
    "\n",
    "**Dataset Information:** The dataset we will be using includes the data for type 2 diabetic cases for female Pima Indian Heritage patients of at least 20 years of age. The dataset includes the number of pregnancies, glucose levels in the blood, blood pressure, the thickness of the skin, insulin levels in the blood, body mass index (BMI), diabetes pedigree function which is the likelihood of getting type 2 diabetes, age and outcome which is either 1 (has diabetes) or 0 (doesn’t have diabetes.) \n",
    "\n",
    "**Predictive Question:** What glucose and BMI values indicate type 2 diabetes? "
   ]
  },
  {
   "cell_type": "markdown",
   "id": "c17400b5-036f-4573-9579-2212874fa0a8",
   "metadata": {},
   "source": [
    "### Preliminary Exploratory Data Analysis"
   ]
  },
  {
   "cell_type": "code",
   "execution_count": 8,
   "id": "bd5f0812-d7b6-4185-9161-daada978761e",
   "metadata": {},
   "outputs": [],
   "source": [
    "# importing libraries \n",
    "library(tidyverse)\n",
    "library(repr)"
   ]
  },
  {
   "cell_type": "code",
   "execution_count": 9,
   "id": "6b55c41f-3c65-49a9-aa80-935abe684eca",
   "metadata": {},
   "outputs": [
    {
     "name": "stderr",
     "output_type": "stream",
     "text": [
      "\u001b[1mRows: \u001b[22m\u001b[34m768\u001b[39m \u001b[1mColumns: \u001b[22m\u001b[34m9\u001b[39m\n",
      "\u001b[36m──\u001b[39m \u001b[1mColumn specification\u001b[22m \u001b[36m────────────────────────────────────────────────────────\u001b[39m\n",
      "\u001b[1mDelimiter:\u001b[22m \",\"\n",
      "\u001b[32mdbl\u001b[39m (9): Pregnancies, Glucose, BloodPressure, SkinThickness, Insulin, BMI, D...\n",
      "\n",
      "\u001b[36mℹ\u001b[39m Use `spec()` to retrieve the full column specification for this data.\n",
      "\u001b[36mℹ\u001b[39m Specify the column types or set `show_col_types = FALSE` to quiet this message.\n"
     ]
    }
   ],
   "source": [
    "# importing data\n",
    "\n",
    "diabetes <- read_csv(\"https://raw.githubusercontent.com/kzhang1223/dsci-100-2023s1-group-55/main/diabetes.csv\")\n"
   ]
  },
  {
   "cell_type": "markdown",
   "id": "70c4815a-22a4-4b8e-9da4-c99fda211224",
   "metadata": {},
   "source": [
    "### Methods\n",
    "\n",
    "We will use the k-nearest neighbors classifier to create a model that will predict whether one has or does not have diabetes based on glucose levels in the blood and BMI. Through this model, we will use a 5-fold cross-validation to determine the best k value for the highest accuracy. This classifier would require high accuracy as diabetes should be treated before it becomes increasingly harmful. Inaccurate classifications of patients can lead to late treatment and/or unnecessary treatment for those who don’t actually have diabetes. \n",
    "\n",
    "One way we will visualize results is by using a scatter plot of glucose (x-axis) vs. BMI (y-axis) where each point’s color will be linked to the outcome of whether one has type 2 diabetes or not. Using this visualization, we will be able to see the relationship between glucose and BMI and how that affects the diagnosis of diabetes. "
   ]
  },
  {
   "cell_type": "markdown",
   "id": "dd48e84e-7bf8-4620-9443-5fe84e0bd925",
   "metadata": {},
   "source": [
    "### Expected Outcomes and Significance\n",
    "\n",
    "We expect to find that there is a positive correlation between glucose and BMI resulting in type 2 diabetes. Since extra glucose can be stored in the body as fat and hence BMI, this could potentially lead to higher risks of type 2 diabetes. These findings could point to the prevention of type 2 diabetes which could help aid doctors in diagnosing patients accurately. These findings could potentially lead to questions regarding the susceptibility of type 2 diabetes based on a patient's blood pressure. In addition to this, perhaps cases of type 2 diabetes in male Pima Indian heritage as well as other ethnicities could be examined. "
   ]
  }
 ],
 "metadata": {
  "kernelspec": {
   "display_name": "R",
   "language": "R",
   "name": "ir"
  },
  "language_info": {
   "codemirror_mode": "r",
   "file_extension": ".r",
   "mimetype": "text/x-r-source",
   "name": "R",
   "pygments_lexer": "r",
   "version": "4.1.3"
  }
 },
 "nbformat": 4,
 "nbformat_minor": 5
}
